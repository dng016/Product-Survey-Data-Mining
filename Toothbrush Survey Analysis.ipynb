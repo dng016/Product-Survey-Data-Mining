{
 "cells": [
  {
   "cell_type": "code",
   "execution_count": 1,
   "metadata": {},
   "outputs": [],
   "source": [
    "import pandas as pd\n",
    "import numpy as np\n",
    "import matplotlib.pyplot as plt\n",
    "from sklearn.preprocessing import StandardScaler\n",
    "from sklearn.decomposition import PCA\n",
    "from mlxtend.frequent_patterns import apriori, association_rules"
   ]
  },
  {
   "cell_type": "code",
   "execution_count": 2,
   "metadata": {},
   "outputs": [],
   "source": [
    "#read in all data from a prototype toothbrush survey that comprises of 21 respondents\n",
    "res_id = 'Respondents ID'\n",
    "geninfo_df = pd.read_excel('Product Survey Data.xlsx', sheet_name='General Info', index_col=res_id)\n",
    "likes_df = pd.read_excel('Product Survey Data.xlsx', sheet_name='Likes', index_col=res_id)\n",
    "dislikes_df = pd.read_excel('Product Survey Data.xlsx', sheet_name='Dislikes', index_col=res_id)\n",
    "charrate_df = pd.read_excel('Product Survey Data.xlsx', sheet_name='CharacteristicsRating', index_col=res_id)\n",
    "willingtopayfeat_df = pd.read_excel('Product Survey Data.xlsx', sheet_name='PayingForFeatures', index_col=res_id)\n",
    "mostwantedfeat_df = pd.read_excel('Product Survey Data.xlsx', sheet_name='MostWantedFeatures', index_col=res_id)"
   ]
  },
  {
   "cell_type": "code",
   "execution_count": 5,
   "metadata": {},
   "outputs": [],
   "source": [
    "#Setting general plot parameters\n",
    "SMALL_SIZE = 12\n",
    "MEDIUM_SIZE = 15\n",
    "BIGGER_SIZE = 18\n",
    "\n",
    "plt.rc('font', size=SMALL_SIZE)          # controls default text sizes\n",
    "plt.rc('axes', titlesize=MEDIUM_SIZE)     # fontsize of the axes title\n",
    "plt.rc('axes', labelsize=MEDIUM_SIZE)    # fontsize of the x and y labels\n",
    "plt.rc('xtick', labelsize=SMALL_SIZE)    # fontsize of the tick labels\n",
    "plt.rc('ytick', labelsize=SMALL_SIZE)    # fontsize of the tick labels\n",
    "plt.rc('legend', fontsize=MEDIUM_SIZE)    # legend fontsize\n",
    "plt.rc('figure', titlesize=BIGGER_SIZE)  # fontsize of the figure title"
   ]
  },
  {
   "cell_type": "code",
   "execution_count": 6,
   "metadata": {},
   "outputs": [
    {
     "data": {
      "text/plain": [
       "Text(0, 0.5, 'Willingness to Pay')"
      ]
     },
     "execution_count": 6,
     "metadata": {},
     "output_type": "execute_result"
    },
    {
     "data": {
      "image/png": "[encoded data removed]",
      "text/plain": [
       "<Figure size 720x432 with 1 Axes>"
      ]
     },
     "metadata": {},
     "output_type": "display_data"
    }
   ],
   "source": [
    "#scatter plot and linear regression analysis by comparing respondents current price rating and their willingness to pay\n",
    "currentpricerating_x = geninfo_df['CurrentPriceRating(1-5)']\n",
    "willingnesstopay_y = geninfo_df['WillingnessToPay']\n",
    "plt.style.use('seaborn-whitegrid')\n",
    "plt.figure(figsize=(10, 6))\n",
    "\n",
    "#plotting scatter plot\n",
    "plt.scatter(currentpricerating_x, willingnesstopay_y, s=100, c='#065dc7')\n",
    "\n",
    "#obtaining slope and intercept for best-fit line\n",
    "m, b = np.polyfit(currentpricerating_x, willingnesstopay_y, 1)\n",
    "\n",
    "#plotting best-fit line\n",
    "plt.plot(currentpricerating_x, m*currentpricerating_x + b, c='#000000')\n",
    "\n",
    "plt.xlabel('Current Price Rating')\n",
    "plt.ylabel('Willingness to Pay')"
   ]
  },
  {
   "cell_type": "code",
   "execution_count": 7,
   "metadata": {},
   "outputs": [
    {
     "data": {
      "text/html": [
       "<div>\n",
       "<style scoped>\n",
       "    .dataframe tbody tr th:only-of-type {\n",
       "        vertical-align: middle;\n",
       "    }\n",
       "\n",
       "    .dataframe tbody tr th {\n",
       "        vertical-align: top;\n",
       "    }\n",
       "\n",
       "    .dataframe thead th {\n",
       "        text-align: right;\n",
       "    }\n",
       "</style>\n",
       "<table border=\"1\" class=\"dataframe\">\n",
       "  <thead>\n",
       "    <tr style=\"text-align: right;\">\n",
       "      <th></th>\n",
       "      <th>CurrentPriceRating(1-5)</th>\n",
       "      <th>WillingnessToPay</th>\n",
       "    </tr>\n",
       "  </thead>\n",
       "  <tbody>\n",
       "    <tr>\n",
       "      <th>CurrentPriceRating(1-5)</th>\n",
       "      <td>1.000000</td>\n",
       "      <td>0.635169</td>\n",
       "    </tr>\n",
       "    <tr>\n",
       "      <th>WillingnessToPay</th>\n",
       "      <td>0.635169</td>\n",
       "      <td>1.000000</td>\n",
       "    </tr>\n",
       "  </tbody>\n",
       "</table>\n",
       "</div>"
      ],
      "text/plain": [
       "                         CurrentPriceRating(1-5)  WillingnessToPay\n",
       "CurrentPriceRating(1-5)                 1.000000          0.635169\n",
       "WillingnessToPay                        0.635169          1.000000"
      ]
     },
     "execution_count": 7,
     "metadata": {},
     "output_type": "execute_result"
    }
   ],
   "source": [
    "#Actual correlation coefficient values using pearson method \n",
    "geninfo_df[['CurrentPriceRating(1-5)', 'WillingnessToPay']].corr(method='pearson')"
   ]
  },
  {
   "cell_type": "code",
   "execution_count": 8,
   "metadata": {},
   "outputs": [
    {
     "data": {
      "text/plain": [
       "Grip                  4.000000\n",
       "Weight                3.380952\n",
       "On/Off                3.714286\n",
       "Clean/Rinse           4.428571\n",
       "Vibration             3.523810\n",
       "Waterproof            3.761905\n",
       "Travel                3.380952\n",
       "Replace Battery       4.000000\n",
       "Replace Brush Head    4.238095\n",
       "Replacements          4.523810\n",
       "Avail in Area         4.714286\n",
       "Long Battery Life     4.380952\n",
       "Technology            2.571429\n",
       "Looks Cool            2.571429\n",
       "Distinguishable       3.476190\n",
       "Match Décor           1.619048\n",
       "Easy to Store         3.428571\n",
       "Small Space           3.047619\n",
       "Easy to hold          4.047619\n",
       "Toothbrush Sized      3.190476\n",
       "Packaging             2.142857\n",
       "dtype: float64"
      ]
     },
     "execution_count": 8,
     "metadata": {},
     "output_type": "execute_result"
    }
   ],
   "source": [
    "#average rating of each characteristic of the product\n",
    "avgchar_rate = charrate_df.loc[:, 'Grip':'Packaging'].mean()\n",
    "avgchar_rate"
   ]
  },
  {
   "cell_type": "code",
   "execution_count": 9,
   "metadata": {},
   "outputs": [
    {
     "data": {
      "text/plain": [
       "Text(0, 0.5, 'Charateristics')"
      ]
     },
     "execution_count": 9,
     "metadata": {},
     "output_type": "execute_result"
    },
    {
     "data": {
      "image/png": "[encoded data removed]",
      "text/plain": [
       "<Figure size 576x432 with 1 Axes>"
      ]
     },
     "metadata": {},
     "output_type": "display_data"
    }
   ],
   "source": [
    "#horizontal bar chart to visualise average characteristics rating\n",
    "plt.figure(figsize=(8, 6))\n",
    "plt.grid(b=None, which='both', axis='y')\n",
    "plt.barh(avgchar_rate.sort_values(ascending=False).index, avgchar_rate.sort_values(ascending=False))\n",
    "plt.xlabel('Average Rating')\n",
    "plt.ylabel('Charateristics')"
   ]
  },
  {
   "cell_type": "code",
   "execution_count": 10,
   "metadata": {},
   "outputs": [],
   "source": [
    "#Principal Component Analysis (dimensionality reduction) using results for how much\n",
    "#respondents were willing to pay for individual features\n",
    "\n",
    "x = willingtopayfeat_df.loc[:, 'Timer':'Extra head'].values\n",
    "x = StandardScaler().fit_transform(x) # normalizing the features\n",
    "\n",
    "# convert normalized features into dataframe using pandas\n",
    "willingtopayfeat_cols = ['feature'+str(i) for i in range(x.shape[1])]\n",
    "normalised_willingtopayfeat = pd.DataFrame(x,columns = willingtopayfeat_cols)\n",
    "\n",
    "#reducing dimensions\n",
    "pca_willingtopayfeat = PCA(n_components=2)\n",
    "principalComponents_willingtopayfeat = pca_willingtopayfeat.fit_transform(x)\n",
    "\n",
    "#projecting principal component values into a dataframe\n",
    "principal_willingtopayfeat = pd.DataFrame(data = principalComponents_willingtopayfeat\n",
    "             , columns = ['principal component 1', 'principal component 2'])\n",
    "\n",
    "#align indexes of principal component values with respondents ID\n",
    "principal_willingtopayfeat.index = np.arange(1, len(principal_willingtopayfeat)+1)"
   ]
  },
  {
   "cell_type": "code",
   "execution_count": 11,
   "metadata": {},
   "outputs": [
    {
     "name": "stdout",
     "output_type": "stream",
     "text": [
      "Explained variation per principal component: [0.26248698 0.1689516 ]\n"
     ]
    }
   ],
   "source": [
    "#information percentage retained in pc 1 and pc 2 after reducing dimensions\n",
    "print('Explained variation per principal component: {}'.format(pca_willingtopayfeat.explained_variance_ratio_))"
   ]
  },
  {
   "cell_type": "code",
   "execution_count": 12,
   "metadata": {},
   "outputs": [
    {
     "data": {
      "text/plain": [
       "<matplotlib.legend.Legend at 0x1b050f11a90>"
      ]
     },
     "execution_count": 12,
     "metadata": {},
     "output_type": "execute_result"
    },
    {
     "data": {
      "image/png": "[encoded data removed]",
      "text/plain": [
       "<Figure size 720x432 with 1 Axes>"
      ]
     },
     "metadata": {},
     "output_type": "display_data"
    }
   ],
   "source": [
    "#PCA Plot\n",
    "plt.figure(figsize=(10, 6))\n",
    "plt.xlim(left = -3, right = 5)\n",
    "plt.xlabel('Principal Component - 1')\n",
    "plt.ylabel('Principal Component - 2')\n",
    "plt.title(\"PCA of how much respondents were willing to pay for individual features\")\n",
    "\n",
    "targets = ['Male', 'Female']\n",
    "colors = ['b', 'r']\n",
    "for target, color in zip(targets,colors):\n",
    "    indicesToKeep = willingtopayfeat_df['Gender'] == target\n",
    "    plt.scatter(principal_willingtopayfeat.loc[indicesToKeep, 'principal component 1'],\n",
    "                principal_willingtopayfeat.loc[indicesToKeep, 'principal component 2'], c = color, s = 50)\n",
    "\n",
    "plt.legend(targets, edgecolor='black', frameon=True)"
   ]
  },
  {
   "cell_type": "code",
   "execution_count": 13,
   "metadata": {
    "scrolled": true
   },
   "outputs": [
    {
     "data": {
      "text/html": [
       "<div>\n",
       "<style scoped>\n",
       "    .dataframe tbody tr th:only-of-type {\n",
       "        vertical-align: middle;\n",
       "    }\n",
       "\n",
       "    .dataframe tbody tr th {\n",
       "        vertical-align: top;\n",
       "    }\n",
       "\n",
       "    .dataframe thead th {\n",
       "        text-align: right;\n",
       "    }\n",
       "</style>\n",
       "<table border=\"1\" class=\"dataframe\">\n",
       "  <thead>\n",
       "    <tr style=\"text-align: right;\">\n",
       "      <th></th>\n",
       "      <th>antecedents</th>\n",
       "      <th>consequents</th>\n",
       "      <th>antecedent support</th>\n",
       "      <th>consequent support</th>\n",
       "      <th>support</th>\n",
       "      <th>confidence</th>\n",
       "      <th>lift</th>\n",
       "      <th>leverage</th>\n",
       "      <th>conviction</th>\n",
       "    </tr>\n",
       "  </thead>\n",
       "  <tbody>\n",
       "    <tr>\n",
       "      <th>7</th>\n",
       "      <td>(Style)</td>\n",
       "      <td>(Stand)</td>\n",
       "      <td>0.238095</td>\n",
       "      <td>0.428571</td>\n",
       "      <td>0.190476</td>\n",
       "      <td>0.800000</td>\n",
       "      <td>1.866667</td>\n",
       "      <td>0.088435</td>\n",
       "      <td>2.857143</td>\n",
       "    </tr>\n",
       "    <tr>\n",
       "      <th>2</th>\n",
       "      <td>(Stand)</td>\n",
       "      <td>(Rechargeable)</td>\n",
       "      <td>0.428571</td>\n",
       "      <td>0.476190</td>\n",
       "      <td>0.285714</td>\n",
       "      <td>0.666667</td>\n",
       "      <td>1.400000</td>\n",
       "      <td>0.081633</td>\n",
       "      <td>1.571429</td>\n",
       "    </tr>\n",
       "    <tr>\n",
       "      <th>3</th>\n",
       "      <td>(Rechargeable)</td>\n",
       "      <td>(Stand)</td>\n",
       "      <td>0.476190</td>\n",
       "      <td>0.428571</td>\n",
       "      <td>0.285714</td>\n",
       "      <td>0.600000</td>\n",
       "      <td>1.400000</td>\n",
       "      <td>0.081633</td>\n",
       "      <td>1.428571</td>\n",
       "    </tr>\n",
       "    <tr>\n",
       "      <th>0</th>\n",
       "      <td>(Style)</td>\n",
       "      <td>(Rechargeable)</td>\n",
       "      <td>0.238095</td>\n",
       "      <td>0.476190</td>\n",
       "      <td>0.142857</td>\n",
       "      <td>0.600000</td>\n",
       "      <td>1.260000</td>\n",
       "      <td>0.029478</td>\n",
       "      <td>1.309524</td>\n",
       "    </tr>\n",
       "    <tr>\n",
       "      <th>8</th>\n",
       "      <td>(Battery Indicator)</td>\n",
       "      <td>(Stand)</td>\n",
       "      <td>0.285714</td>\n",
       "      <td>0.428571</td>\n",
       "      <td>0.142857</td>\n",
       "      <td>0.500000</td>\n",
       "      <td>1.166667</td>\n",
       "      <td>0.020408</td>\n",
       "      <td>1.142857</td>\n",
       "    </tr>\n",
       "    <tr>\n",
       "      <th>4</th>\n",
       "      <td>(Battery Indicator)</td>\n",
       "      <td>(Rechargeable)</td>\n",
       "      <td>0.285714</td>\n",
       "      <td>0.476190</td>\n",
       "      <td>0.142857</td>\n",
       "      <td>0.500000</td>\n",
       "      <td>1.050000</td>\n",
       "      <td>0.006803</td>\n",
       "      <td>1.047619</td>\n",
       "    </tr>\n",
       "    <tr>\n",
       "      <th>6</th>\n",
       "      <td>(Stand)</td>\n",
       "      <td>(Style)</td>\n",
       "      <td>0.428571</td>\n",
       "      <td>0.238095</td>\n",
       "      <td>0.190476</td>\n",
       "      <td>0.444444</td>\n",
       "      <td>1.866667</td>\n",
       "      <td>0.088435</td>\n",
       "      <td>1.371429</td>\n",
       "    </tr>\n",
       "    <tr>\n",
       "      <th>9</th>\n",
       "      <td>(Stand)</td>\n",
       "      <td>(Battery Indicator)</td>\n",
       "      <td>0.428571</td>\n",
       "      <td>0.285714</td>\n",
       "      <td>0.142857</td>\n",
       "      <td>0.333333</td>\n",
       "      <td>1.166667</td>\n",
       "      <td>0.020408</td>\n",
       "      <td>1.071429</td>\n",
       "    </tr>\n",
       "    <tr>\n",
       "      <th>1</th>\n",
       "      <td>(Rechargeable)</td>\n",
       "      <td>(Style)</td>\n",
       "      <td>0.476190</td>\n",
       "      <td>0.238095</td>\n",
       "      <td>0.142857</td>\n",
       "      <td>0.300000</td>\n",
       "      <td>1.260000</td>\n",
       "      <td>0.029478</td>\n",
       "      <td>1.088435</td>\n",
       "    </tr>\n",
       "    <tr>\n",
       "      <th>5</th>\n",
       "      <td>(Rechargeable)</td>\n",
       "      <td>(Battery Indicator)</td>\n",
       "      <td>0.476190</td>\n",
       "      <td>0.285714</td>\n",
       "      <td>0.142857</td>\n",
       "      <td>0.300000</td>\n",
       "      <td>1.050000</td>\n",
       "      <td>0.006803</td>\n",
       "      <td>1.020408</td>\n",
       "    </tr>\n",
       "  </tbody>\n",
       "</table>\n",
       "</div>"
      ],
      "text/plain": [
       "           antecedents          consequents  antecedent support  \\\n",
       "7              (Style)              (Stand)            0.238095   \n",
       "2              (Stand)       (Rechargeable)            0.428571   \n",
       "3       (Rechargeable)              (Stand)            0.476190   \n",
       "0              (Style)       (Rechargeable)            0.238095   \n",
       "8  (Battery Indicator)              (Stand)            0.285714   \n",
       "4  (Battery Indicator)       (Rechargeable)            0.285714   \n",
       "6              (Stand)              (Style)            0.428571   \n",
       "9              (Stand)  (Battery Indicator)            0.428571   \n",
       "1       (Rechargeable)              (Style)            0.476190   \n",
       "5       (Rechargeable)  (Battery Indicator)            0.476190   \n",
       "\n",
       "   consequent support   support  confidence      lift  leverage  conviction  \n",
       "7            0.428571  0.190476    0.800000  1.866667  0.088435    2.857143  \n",
       "2            0.476190  0.285714    0.666667  1.400000  0.081633    1.571429  \n",
       "3            0.428571  0.285714    0.600000  1.400000  0.081633    1.428571  \n",
       "0            0.476190  0.142857    0.600000  1.260000  0.029478    1.309524  \n",
       "8            0.428571  0.142857    0.500000  1.166667  0.020408    1.142857  \n",
       "4            0.476190  0.142857    0.500000  1.050000  0.006803    1.047619  \n",
       "6            0.238095  0.190476    0.444444  1.866667  0.088435    1.371429  \n",
       "9            0.285714  0.142857    0.333333  1.166667  0.020408    1.071429  \n",
       "1            0.238095  0.142857    0.300000  1.260000  0.029478    1.088435  \n",
       "5            0.285714  0.142857    0.300000  1.050000  0.006803    1.020408  "
      ]
     },
     "execution_count": 13,
     "metadata": {},
     "output_type": "execute_result"
    }
   ],
   "source": [
    "#Applying Association rule learning using apriori algorithm base on results of most wanted features by respondents\n",
    "#(Note: each respondent could only indicate their 3 most wanted features)\n",
    "\n",
    "# Defining the hot encoding function to make data suitable \n",
    "# for the concerned libraries\n",
    "def hot_encode(x):\n",
    "    if(x<= 0):\n",
    "        return 0\n",
    "    if(x>= 1):\n",
    "        return 1\n",
    "\n",
    "# Encoding the list of features\n",
    "basket_encoded = mostwantedfeat_df.loc[:, 'Timer':'Extra head'].applymap(hot_encode)\n",
    "basket_mostwantedfeat = basket_encoded\n",
    "\n",
    "# Building the model with minimum support = 10%\n",
    "frq_items = apriori(basket_mostwantedfeat, min_support = 0.1, use_colnames = True)\n",
    "\n",
    "# Collecting the inferred rules in a dataframe\n",
    "rules = association_rules(frq_items, metric =\"lift\", min_threshold = 1)\n",
    "rules = rules.sort_values(['confidence', 'lift'], ascending =[False, False])\n",
    "rules.head(10)"
   ]
  },
  {
   "cell_type": "code",
   "execution_count": 14,
   "metadata": {},
   "outputs": [],
   "source": [
    "#results from above seem to indicate that the top 3 most wanted features base on the survey is style, stand and rechargeable\n",
    "#respondents that want a toothbrush with style also would like it to come with a stand 80% of the time\n",
    "#respondents that want a toothbrush with stand also wants it to be rechargeable 67% of the time"
   ]
  }
 ],
 "metadata": {
  "kernelspec": {
   "display_name": "Python 3",
   "language": "python",
   "name": "python3"
  },
  "language_info": {
   "codemirror_mode": {
    "name": "ipython",
    "version": 3
   },
   "file_extension": ".py",
   "mimetype": "text/x-python",
   "name": "python",
   "nbconvert_exporter": "python",
   "pygments_lexer": "ipython3",
   "version": "3.8.5"
  }
 },
 "nbformat": 4,
 "nbformat_minor": 4
}
